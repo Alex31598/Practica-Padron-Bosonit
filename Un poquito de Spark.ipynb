{
 "cells": [
  {
   "cell_type": "code",
   "execution_count": 1,
   "id": "27e90422-6aa0-4613-bbb3-0af77a8df086",
   "metadata": {},
   "outputs": [],
   "source": [
    "import sys\n",
    "from pyspark.sql import SparkSession\n",
    "spark = (SparkSession\n",
    " .builder\n",
    " .master(\"local\")\n",
    " .appName(\"Padron\")\n",
    " .getOrCreate())"
   ]
  },
  {
   "cell_type": "markdown",
   "id": "e7909406-50c6-4c25-a079-f7cf1a2255cb",
   "metadata": {},
   "source": [
    "# Ejercicio 1"
   ]
  },
  {
   "cell_type": "markdown",
   "id": "c95bf3fb-f250-46c3-9fd3-8a989b7408e8",
   "metadata": {},
   "source": [
    "Comenzamos realizando la misma práctica que hicimos en Hive en Spark, importando el \n",
    "csv. Sería recomendable intentarlo con opciones que quiten las \"\" de los campos, que \n",
    "ignoren los espacios innecesarios en los campos, que sustituyan los valores vacíos por 0 y \n",
    "que infiera el esquema."
   ]
  },
  {
   "cell_type": "code",
   "execution_count": 2,
   "id": "97c416ed-49ac-4652-af28-356dcdb7751b",
   "metadata": {},
   "outputs": [],
   "source": [
    "import pyspark.sql.functions as F\n",
    "from pyspark.sql.types import IntegerType\n",
    "\n",
    "# Leemos los datos y quitamos filas con NA y convertimos a numéricas las columnas inferidas incorrectamente\n",
    "padron_lectura = spark.read\\\n",
    "                 .option(\"header\", \"true\")\\\n",
    "                 .option(\"delimiter\", \";\")\\\n",
    "                 .option(\"inferSchema\", \"true\")\\\n",
    "                 .option(\"quote\", \"\\\"\")\\\n",
    "                 .csv(\"C:/Shared/Rango_Edades_Seccion_202204.csv\")"
   ]
  },
  {
   "cell_type": "code",
   "execution_count": 3,
   "id": "db5c32ed-d1cb-48c1-96ae-a033c5337465",
   "metadata": {},
   "outputs": [
    {
     "name": "stdout",
     "output_type": "stream",
     "text": [
      "+------------+--------------------+---------------+--------------------+----------+----------------+-----------+------------+----------------+----------------+------------------+------------------+\n",
      "|COD_DISTRITO|       DESC_DISTRITO|COD_DIST_BARRIO|         DESC_BARRIO|COD_BARRIO|COD_DIST_SECCION|COD_SECCION|COD_EDAD_INT|EspanolesHombres|EspanolesMujeres|ExtranjerosHombres|ExtranjerosMujeres|\n",
      "+------------+--------------------+---------------+--------------------+----------+----------------+-----------+------------+----------------+----------------+------------------+------------------+\n",
      "|           1|CENTRO              |            101|PALACIO             |         1|            1001|          1|           0|               3|               1|                 1|              null|\n",
      "|           1|CENTRO              |            101|PALACIO             |         1|            1001|          1|           1|               5|               2|              null|              null|\n",
      "|           1|CENTRO              |            101|PALACIO             |         1|            1001|          1|           2|               2|               2|                 2|                 3|\n",
      "|           1|CENTRO              |            101|PALACIO             |         1|            1001|          1|           3|               3|               1|              null|                 1|\n",
      "|           1|CENTRO              |            101|PALACIO             |         1|            1001|          1|           4|               3|               1|                 1|                 1|\n",
      "|           1|CENTRO              |            101|PALACIO             |         1|            1001|          1|           5|               1|               1|              null|                 1|\n",
      "|           1|CENTRO              |            101|PALACIO             |         1|            1001|          1|           6|               1|               2|                 1|                 1|\n",
      "|           1|CENTRO              |            101|PALACIO             |         1|            1001|          1|           7|               1|               1|                 1|              null|\n",
      "|           1|CENTRO              |            101|PALACIO             |         1|            1001|          1|           8|               3|               2|                 1|                 1|\n",
      "|           1|CENTRO              |            101|PALACIO             |         1|            1001|          1|           9|               2|            null|              null|                 2|\n",
      "|           1|CENTRO              |            101|PALACIO             |         1|            1001|          1|          10|               1|               2|                 1|              null|\n",
      "|           1|CENTRO              |            101|PALACIO             |         1|            1001|          1|          11|               5|               1|                 1|              null|\n",
      "|           1|CENTRO              |            101|PALACIO             |         1|            1001|          1|          12|               2|               4|              null|              null|\n",
      "|           1|CENTRO              |            101|PALACIO             |         1|            1001|          1|          13|               5|               4|              null|              null|\n",
      "|           1|CENTRO              |            101|PALACIO             |         1|            1001|          1|          14|               1|            null|              null|                 2|\n",
      "|           1|CENTRO              |            101|PALACIO             |         1|            1001|          1|          15|               1|               3|                 1|              null|\n",
      "|           1|CENTRO              |            101|PALACIO             |         1|            1001|          1|          16|               6|               4|              null|              null|\n",
      "|           1|CENTRO              |            101|PALACIO             |         1|            1001|          1|          17|               2|               2|              null|                 1|\n",
      "|           1|CENTRO              |            101|PALACIO             |         1|            1001|          1|          18|               3|               5|                 1|              null|\n",
      "|           1|CENTRO              |            101|PALACIO             |         1|            1001|          1|          19|               3|               4|                 2|                 2|\n",
      "+------------+--------------------+---------------+--------------------+----------+----------------+-----------+------------+----------------+----------------+------------------+------------------+\n",
      "only showing top 20 rows\n",
      "\n"
     ]
    }
   ],
   "source": [
    "padron_lectura.show(truncate = True)"
   ]
  },
  {
   "cell_type": "markdown",
   "id": "498e5602-dd5e-41d6-a3a5-2275a23659c4",
   "metadata": {},
   "source": [
    "Vemos el esquema"
   ]
  },
  {
   "cell_type": "code",
   "execution_count": 4,
   "id": "63d2cd40-19bd-4793-8495-cbe59a2047c5",
   "metadata": {},
   "outputs": [
    {
     "name": "stdout",
     "output_type": "stream",
     "text": [
      "root\n",
      " |-- COD_DISTRITO: integer (nullable = true)\n",
      " |-- DESC_DISTRITO: string (nullable = true)\n",
      " |-- COD_DIST_BARRIO: integer (nullable = true)\n",
      " |-- DESC_BARRIO: string (nullable = true)\n",
      " |-- COD_BARRIO: integer (nullable = true)\n",
      " |-- COD_DIST_SECCION: integer (nullable = true)\n",
      " |-- COD_SECCION: integer (nullable = true)\n",
      " |-- COD_EDAD_INT: integer (nullable = true)\n",
      " |-- EspanolesHombres: integer (nullable = true)\n",
      " |-- EspanolesMujeres: integer (nullable = true)\n",
      " |-- ExtranjerosHombres: integer (nullable = true)\n",
      " |-- ExtranjerosMujeres: integer (nullable = true)\n",
      "\n"
     ]
    }
   ],
   "source": [
    "padron_lectura.printSchema()\n"
   ]
  },
  {
   "cell_type": "markdown",
   "id": "973c859d-0831-48df-98e0-55b291592406",
   "metadata": {},
   "source": [
    "Vamos a reemplazar los valore null y a hacer un trim de las columnas con strings"
   ]
  },
  {
   "cell_type": "code",
   "execution_count": 5,
   "id": "c449d5e3-064c-4fe3-aa55-ced7f77eade5",
   "metadata": {},
   "outputs": [
    {
     "name": "stdout",
     "output_type": "stream",
     "text": [
      "+------------+-------------+---------------+-----------+----------+----------------+-----------+------------+----------------+----------------+------------------+------------------+\n",
      "|COD_DISTRITO|DESC_DISTRITO|COD_DIST_BARRIO|DESC_BARRIO|COD_BARRIO|COD_DIST_SECCION|COD_SECCION|COD_EDAD_INT|EspanolesHombres|EspanolesMujeres|ExtranjerosHombres|ExtranjerosMujeres|\n",
      "+------------+-------------+---------------+-----------+----------+----------------+-----------+------------+----------------+----------------+------------------+------------------+\n",
      "|           1|       CENTRO|            101|    PALACIO|         1|            1001|          1|           0|               3|               1|                 1|                 0|\n",
      "|           1|       CENTRO|            101|    PALACIO|         1|            1001|          1|           1|               5|               2|                 0|                 0|\n",
      "|           1|       CENTRO|            101|    PALACIO|         1|            1001|          1|           2|               2|               2|                 2|                 3|\n",
      "|           1|       CENTRO|            101|    PALACIO|         1|            1001|          1|           3|               3|               1|                 0|                 1|\n",
      "|           1|       CENTRO|            101|    PALACIO|         1|            1001|          1|           4|               3|               1|                 1|                 1|\n",
      "|           1|       CENTRO|            101|    PALACIO|         1|            1001|          1|           5|               1|               1|                 0|                 1|\n",
      "|           1|       CENTRO|            101|    PALACIO|         1|            1001|          1|           6|               1|               2|                 1|                 1|\n",
      "|           1|       CENTRO|            101|    PALACIO|         1|            1001|          1|           7|               1|               1|                 1|                 0|\n",
      "|           1|       CENTRO|            101|    PALACIO|         1|            1001|          1|           8|               3|               2|                 1|                 1|\n",
      "|           1|       CENTRO|            101|    PALACIO|         1|            1001|          1|           9|               2|               0|                 0|                 2|\n",
      "|           1|       CENTRO|            101|    PALACIO|         1|            1001|          1|          10|               1|               2|                 1|                 0|\n",
      "|           1|       CENTRO|            101|    PALACIO|         1|            1001|          1|          11|               5|               1|                 1|                 0|\n",
      "|           1|       CENTRO|            101|    PALACIO|         1|            1001|          1|          12|               2|               4|                 0|                 0|\n",
      "|           1|       CENTRO|            101|    PALACIO|         1|            1001|          1|          13|               5|               4|                 0|                 0|\n",
      "|           1|       CENTRO|            101|    PALACIO|         1|            1001|          1|          14|               1|               0|                 0|                 2|\n",
      "|           1|       CENTRO|            101|    PALACIO|         1|            1001|          1|          15|               1|               3|                 1|                 0|\n",
      "|           1|       CENTRO|            101|    PALACIO|         1|            1001|          1|          16|               6|               4|                 0|                 0|\n",
      "|           1|       CENTRO|            101|    PALACIO|         1|            1001|          1|          17|               2|               2|                 0|                 1|\n",
      "|           1|       CENTRO|            101|    PALACIO|         1|            1001|          1|          18|               3|               5|                 1|                 0|\n",
      "|           1|       CENTRO|            101|    PALACIO|         1|            1001|          1|          19|               3|               4|                 2|                 2|\n",
      "+------------+-------------+---------------+-----------+----------+----------------+-----------+------------+----------------+----------------+------------------+------------------+\n",
      "only showing top 20 rows\n",
      "\n"
     ]
    }
   ],
   "source": [
    "padron_limpio = padron_lectura.withColumn(\"DESC_DISTRITO\", F.trim(F.col(\"DESC_DISTRITO\")))\\\n",
    "                      .withColumn(\"DESC_BARRIO\", F.trim(F.col(\"DESC_BARRIO\")))\\\n",
    "                      .na.fill(0, [\"EspanolesHombres\", \"EspanolesMujeres\", \"ExtranjerosHombres\", \"ExtranjerosMujeres\"]).cache()\n",
    "\n",
    "\n",
    "padron_limpio.show()"
   ]
  },
  {
   "cell_type": "markdown",
   "id": "8f2fc1a5-71b3-4ed9-a51e-83f4035e3db7",
   "metadata": {},
   "source": [
    "# Ejercicio 2"
   ]
  },
  {
   "cell_type": "markdown",
   "id": "d6270b74-8fc6-4abe-a590-33f55f2f1015",
   "metadata": {},
   "source": [
    "De manera alternativa también se puede importar el csv con menos tratamiento en la \n",
    "importación y hacer todas las modificaciones para alcanzar el mismo estado de limpieza de\n",
    "los datos con funciones de Spark."
   ]
  },
  {
   "cell_type": "code",
   "execution_count": 6,
   "id": "24d81133-c2d3-456f-bdcc-1bd675847881",
   "metadata": {},
   "outputs": [
    {
     "name": "stdout",
     "output_type": "stream",
     "text": [
      "+------------+-------------+---------------+-----------+----------+----------------+-----------+------------+----------------+----------------+------------------+------------------+\n",
      "|COD_DISTRITO|DESC_DISTRITO|COD_DIST_BARRIO|DESC_BARRIO|COD_BARRIO|COD_DIST_SECCION|COD_SECCION|COD_EDAD_INT|EspanolesHombres|EspanolesMujeres|ExtranjerosHombres|ExtranjerosMujeres|\n",
      "+------------+-------------+---------------+-----------+----------+----------------+-----------+------------+----------------+----------------+------------------+------------------+\n",
      "|           1|       CENTRO|            101|    PALACIO|         1|            1001|          1|           0|               3|               1|                 1|                 0|\n",
      "|           1|       CENTRO|            101|    PALACIO|         1|            1001|          1|           1|               5|               2|                 0|                 0|\n",
      "|           1|       CENTRO|            101|    PALACIO|         1|            1001|          1|           2|               2|               2|                 2|                 3|\n",
      "|           1|       CENTRO|            101|    PALACIO|         1|            1001|          1|           3|               3|               1|                 0|                 1|\n",
      "|           1|       CENTRO|            101|    PALACIO|         1|            1001|          1|           4|               3|               1|                 1|                 1|\n",
      "|           1|       CENTRO|            101|    PALACIO|         1|            1001|          1|           5|               1|               1|                 0|                 1|\n",
      "|           1|       CENTRO|            101|    PALACIO|         1|            1001|          1|           6|               1|               2|                 1|                 1|\n",
      "|           1|       CENTRO|            101|    PALACIO|         1|            1001|          1|           7|               1|               1|                 1|                 0|\n",
      "|           1|       CENTRO|            101|    PALACIO|         1|            1001|          1|           8|               3|               2|                 1|                 1|\n",
      "|           1|       CENTRO|            101|    PALACIO|         1|            1001|          1|           9|               2|               0|                 0|                 2|\n",
      "|           1|       CENTRO|            101|    PALACIO|         1|            1001|          1|          10|               1|               2|                 1|                 0|\n",
      "|           1|       CENTRO|            101|    PALACIO|         1|            1001|          1|          11|               5|               1|                 1|                 0|\n",
      "|           1|       CENTRO|            101|    PALACIO|         1|            1001|          1|          12|               2|               4|                 0|                 0|\n",
      "|           1|       CENTRO|            101|    PALACIO|         1|            1001|          1|          13|               5|               4|                 0|                 0|\n",
      "|           1|       CENTRO|            101|    PALACIO|         1|            1001|          1|          14|               1|               0|                 0|                 2|\n",
      "|           1|       CENTRO|            101|    PALACIO|         1|            1001|          1|          15|               1|               3|                 1|                 0|\n",
      "|           1|       CENTRO|            101|    PALACIO|         1|            1001|          1|          16|               6|               4|                 0|                 0|\n",
      "|           1|       CENTRO|            101|    PALACIO|         1|            1001|          1|          17|               2|               2|                 0|                 1|\n",
      "|           1|       CENTRO|            101|    PALACIO|         1|            1001|          1|          18|               3|               5|                 1|                 0|\n",
      "|           1|       CENTRO|            101|    PALACIO|         1|            1001|          1|          19|               3|               4|                 2|                 2|\n",
      "+------------+-------------+---------------+-----------+----------+----------------+-----------+------------+----------------+----------------+------------------+------------------+\n",
      "only showing top 20 rows\n",
      "\n"
     ]
    }
   ],
   "source": [
    "padron_limpio.show()"
   ]
  },
  {
   "cell_type": "markdown",
   "id": "a2fc9227-31eb-44a4-895d-e94a2192f95b",
   "metadata": {},
   "source": [
    "# Ejercicio 3"
   ]
  },
  {
   "cell_type": "markdown",
   "id": "ebed56fa-59ba-4280-adc2-63030ec65e31",
   "metadata": {},
   "source": [
    "Enumera todos los barrios diferentes."
   ]
  },
  {
   "cell_type": "code",
   "execution_count": 7,
   "id": "a61193f6-1551-4947-b308-db600a6dd8fd",
   "metadata": {},
   "outputs": [
    {
     "name": "stdout",
     "output_type": "stream",
     "text": [
      "+--------------------+\n",
      "|         DESC_BARRIO|\n",
      "+--------------------+\n",
      "|        VALDEFUENTES|\n",
      "|       LOS JERONIMOS|\n",
      "|            ABRANTES|\n",
      "|          NI�O JESUS|\n",
      "|            VALVERDE|\n",
      "|              CORTES|\n",
      "|   PALOMERAS SURESTE|\n",
      "|CIUDAD UNIVERSITARIA|\n",
      "|      CUATRO VIENTOS|\n",
      "|           TRAFALGAR|\n",
      "|              HELLIN|\n",
      "|    ALAMEDA DE OSUNA|\n",
      "|          PRADOLONGO|\n",
      "|            MOSCARDO|\n",
      "|          VALDEZARZA|\n",
      "|           RECOLETOS|\n",
      "|             HORCAJO|\n",
      "|        VISTA ALEGRE|\n",
      "|             EL VISO|\n",
      "|    PUERTA DEL ANGEL|\n",
      "+--------------------+\n",
      "only showing top 20 rows\n",
      "\n"
     ]
    }
   ],
   "source": [
    "padron_limpio.select(F.col(\"DESC_BARRIO\")).distinct().show()"
   ]
  },
  {
   "cell_type": "markdown",
   "id": "ccd5d297-112d-4d07-b33d-5d384839ca24",
   "metadata": {},
   "source": [
    "# Ejercicio 4"
   ]
  },
  {
   "cell_type": "markdown",
   "id": "4ab65a5e-eb59-4acc-97b3-787aa5a0b002",
   "metadata": {},
   "source": [
    "Crea una vista temporal de nombre \"padron\" y a través de ella cuenta el número de barrios\n",
    "diferentes que hay."
   ]
  },
  {
   "cell_type": "code",
   "execution_count": 8,
   "id": "6cd70f56-bb7f-4d1b-9f1d-44f2d6def409",
   "metadata": {},
   "outputs": [],
   "source": [
    "padron_limpio.createOrReplaceTempView(\"padron\")"
   ]
  },
  {
   "cell_type": "code",
   "execution_count": 9,
   "id": "2ee4e91d-27c8-47b5-a3e5-0853a6585393",
   "metadata": {},
   "outputs": [
    {
     "name": "stdout",
     "output_type": "stream",
     "text": [
      "+---------------------------+\n",
      "|count(DISTINCT DESC_BARRIO)|\n",
      "+---------------------------+\n",
      "|                        132|\n",
      "+---------------------------+\n",
      "\n"
     ]
    }
   ],
   "source": [
    "spark.sql(\"SELECT COUNT(DISTINCT  DESC_BARRIO) FROM padron\").show()"
   ]
  },
  {
   "cell_type": "markdown",
   "id": "9fe2cea7-d33a-4e3d-b9c9-86f6104f65b7",
   "metadata": {},
   "source": [
    "# Ejercicio 5"
   ]
  },
  {
   "cell_type": "markdown",
   "id": "2649d014-2864-4213-baaf-91aa9ece56b6",
   "metadata": {},
   "source": [
    "Crea una nueva columna que muestre la longitud de los campos de la columna \n",
    "DESC_DISTRITO y que se llame \"longitud\"."
   ]
  },
  {
   "cell_type": "code",
   "execution_count": 10,
   "id": "3bc74040-10ae-4407-9921-901b494c41dd",
   "metadata": {},
   "outputs": [],
   "source": [
    "padron_5 = padron_limpio.withColumn(\"longitud\", F.length(F.col(\"DESC_DISTRITO\")))"
   ]
  },
  {
   "cell_type": "code",
   "execution_count": 11,
   "id": "ac4dcf08-9ae7-4940-b969-2f0402bd487f",
   "metadata": {},
   "outputs": [
    {
     "name": "stdout",
     "output_type": "stream",
     "text": [
      "+------------+-------------+---------------+-----------+----------+----------------+-----------+------------+----------------+----------------+------------------+------------------+--------+\n",
      "|COD_DISTRITO|DESC_DISTRITO|COD_DIST_BARRIO|DESC_BARRIO|COD_BARRIO|COD_DIST_SECCION|COD_SECCION|COD_EDAD_INT|EspanolesHombres|EspanolesMujeres|ExtranjerosHombres|ExtranjerosMujeres|longitud|\n",
      "+------------+-------------+---------------+-----------+----------+----------------+-----------+------------+----------------+----------------+------------------+------------------+--------+\n",
      "|           1|       CENTRO|            101|    PALACIO|         1|            1001|          1|           0|               3|               1|                 1|                 0|       6|\n",
      "|           1|       CENTRO|            101|    PALACIO|         1|            1001|          1|           1|               5|               2|                 0|                 0|       6|\n",
      "|           1|       CENTRO|            101|    PALACIO|         1|            1001|          1|           2|               2|               2|                 2|                 3|       6|\n",
      "|           1|       CENTRO|            101|    PALACIO|         1|            1001|          1|           3|               3|               1|                 0|                 1|       6|\n",
      "|           1|       CENTRO|            101|    PALACIO|         1|            1001|          1|           4|               3|               1|                 1|                 1|       6|\n",
      "|           1|       CENTRO|            101|    PALACIO|         1|            1001|          1|           5|               1|               1|                 0|                 1|       6|\n",
      "|           1|       CENTRO|            101|    PALACIO|         1|            1001|          1|           6|               1|               2|                 1|                 1|       6|\n",
      "|           1|       CENTRO|            101|    PALACIO|         1|            1001|          1|           7|               1|               1|                 1|                 0|       6|\n",
      "|           1|       CENTRO|            101|    PALACIO|         1|            1001|          1|           8|               3|               2|                 1|                 1|       6|\n",
      "|           1|       CENTRO|            101|    PALACIO|         1|            1001|          1|           9|               2|               0|                 0|                 2|       6|\n",
      "|           1|       CENTRO|            101|    PALACIO|         1|            1001|          1|          10|               1|               2|                 1|                 0|       6|\n",
      "|           1|       CENTRO|            101|    PALACIO|         1|            1001|          1|          11|               5|               1|                 1|                 0|       6|\n",
      "|           1|       CENTRO|            101|    PALACIO|         1|            1001|          1|          12|               2|               4|                 0|                 0|       6|\n",
      "|           1|       CENTRO|            101|    PALACIO|         1|            1001|          1|          13|               5|               4|                 0|                 0|       6|\n",
      "|           1|       CENTRO|            101|    PALACIO|         1|            1001|          1|          14|               1|               0|                 0|                 2|       6|\n",
      "|           1|       CENTRO|            101|    PALACIO|         1|            1001|          1|          15|               1|               3|                 1|                 0|       6|\n",
      "|           1|       CENTRO|            101|    PALACIO|         1|            1001|          1|          16|               6|               4|                 0|                 0|       6|\n",
      "|           1|       CENTRO|            101|    PALACIO|         1|            1001|          1|          17|               2|               2|                 0|                 1|       6|\n",
      "|           1|       CENTRO|            101|    PALACIO|         1|            1001|          1|          18|               3|               5|                 1|                 0|       6|\n",
      "|           1|       CENTRO|            101|    PALACIO|         1|            1001|          1|          19|               3|               4|                 2|                 2|       6|\n",
      "+------------+-------------+---------------+-----------+----------+----------------+-----------+------------+----------------+----------------+------------------+------------------+--------+\n",
      "only showing top 20 rows\n",
      "\n"
     ]
    }
   ],
   "source": [
    "padron_5.show(truncate= True)"
   ]
  },
  {
   "cell_type": "markdown",
   "id": "6067ad6b-e3b0-46da-9d7e-89a4e180846e",
   "metadata": {},
   "source": [
    "# Ejercicio 6"
   ]
  },
  {
   "cell_type": "markdown",
   "id": "4c7a9c38-83dd-4ab5-b081-6698c35de35c",
   "metadata": {},
   "source": [
    "Crea una nueva columna que muestre el valor 5 para cada uno de los registros de la tabla. "
   ]
  },
  {
   "cell_type": "code",
   "execution_count": 12,
   "id": "8e932564-317a-495a-8e5a-46fbcb922eb0",
   "metadata": {},
   "outputs": [],
   "source": [
    "padron_6 = padron_limpio.withColumn(\"valor_5\", F.lit(5))"
   ]
  },
  {
   "cell_type": "code",
   "execution_count": 13,
   "id": "6c910fe6-f3c3-49a1-8e5e-c50efec6bb88",
   "metadata": {},
   "outputs": [
    {
     "name": "stdout",
     "output_type": "stream",
     "text": [
      "+------------+-------------+---------------+-----------+----------+----------------+-----------+------------+----------------+----------------+------------------+------------------+-------+\n",
      "|COD_DISTRITO|DESC_DISTRITO|COD_DIST_BARRIO|DESC_BARRIO|COD_BARRIO|COD_DIST_SECCION|COD_SECCION|COD_EDAD_INT|EspanolesHombres|EspanolesMujeres|ExtranjerosHombres|ExtranjerosMujeres|valor_5|\n",
      "+------------+-------------+---------------+-----------+----------+----------------+-----------+------------+----------------+----------------+------------------+------------------+-------+\n",
      "|           1|       CENTRO|            101|    PALACIO|         1|            1001|          1|           0|               3|               1|                 1|                 0|      5|\n",
      "|           1|       CENTRO|            101|    PALACIO|         1|            1001|          1|           1|               5|               2|                 0|                 0|      5|\n",
      "|           1|       CENTRO|            101|    PALACIO|         1|            1001|          1|           2|               2|               2|                 2|                 3|      5|\n",
      "|           1|       CENTRO|            101|    PALACIO|         1|            1001|          1|           3|               3|               1|                 0|                 1|      5|\n",
      "|           1|       CENTRO|            101|    PALACIO|         1|            1001|          1|           4|               3|               1|                 1|                 1|      5|\n",
      "|           1|       CENTRO|            101|    PALACIO|         1|            1001|          1|           5|               1|               1|                 0|                 1|      5|\n",
      "|           1|       CENTRO|            101|    PALACIO|         1|            1001|          1|           6|               1|               2|                 1|                 1|      5|\n",
      "|           1|       CENTRO|            101|    PALACIO|         1|            1001|          1|           7|               1|               1|                 1|                 0|      5|\n",
      "|           1|       CENTRO|            101|    PALACIO|         1|            1001|          1|           8|               3|               2|                 1|                 1|      5|\n",
      "|           1|       CENTRO|            101|    PALACIO|         1|            1001|          1|           9|               2|               0|                 0|                 2|      5|\n",
      "|           1|       CENTRO|            101|    PALACIO|         1|            1001|          1|          10|               1|               2|                 1|                 0|      5|\n",
      "|           1|       CENTRO|            101|    PALACIO|         1|            1001|          1|          11|               5|               1|                 1|                 0|      5|\n",
      "|           1|       CENTRO|            101|    PALACIO|         1|            1001|          1|          12|               2|               4|                 0|                 0|      5|\n",
      "|           1|       CENTRO|            101|    PALACIO|         1|            1001|          1|          13|               5|               4|                 0|                 0|      5|\n",
      "|           1|       CENTRO|            101|    PALACIO|         1|            1001|          1|          14|               1|               0|                 0|                 2|      5|\n",
      "|           1|       CENTRO|            101|    PALACIO|         1|            1001|          1|          15|               1|               3|                 1|                 0|      5|\n",
      "|           1|       CENTRO|            101|    PALACIO|         1|            1001|          1|          16|               6|               4|                 0|                 0|      5|\n",
      "|           1|       CENTRO|            101|    PALACIO|         1|            1001|          1|          17|               2|               2|                 0|                 1|      5|\n",
      "|           1|       CENTRO|            101|    PALACIO|         1|            1001|          1|          18|               3|               5|                 1|                 0|      5|\n",
      "|           1|       CENTRO|            101|    PALACIO|         1|            1001|          1|          19|               3|               4|                 2|                 2|      5|\n",
      "+------------+-------------+---------------+-----------+----------+----------------+-----------+------------+----------------+----------------+------------------+------------------+-------+\n",
      "only showing top 20 rows\n",
      "\n"
     ]
    }
   ],
   "source": [
    "padron_6.show()"
   ]
  },
  {
   "cell_type": "code",
   "execution_count": 14,
   "id": "563953d5-2db4-4e12-83b7-eae84649a6c9",
   "metadata": {},
   "outputs": [
    {
     "name": "stdout",
     "output_type": "stream",
     "text": [
      "root\n",
      " |-- COD_DISTRITO: integer (nullable = true)\n",
      " |-- DESC_DISTRITO: string (nullable = true)\n",
      " |-- COD_DIST_BARRIO: integer (nullable = true)\n",
      " |-- DESC_BARRIO: string (nullable = true)\n",
      " |-- COD_BARRIO: integer (nullable = true)\n",
      " |-- COD_DIST_SECCION: integer (nullable = true)\n",
      " |-- COD_SECCION: integer (nullable = true)\n",
      " |-- COD_EDAD_INT: integer (nullable = true)\n",
      " |-- EspanolesHombres: integer (nullable = true)\n",
      " |-- EspanolesMujeres: integer (nullable = true)\n",
      " |-- ExtranjerosHombres: integer (nullable = true)\n",
      " |-- ExtranjerosMujeres: integer (nullable = true)\n",
      " |-- valor_5: integer (nullable = false)\n",
      "\n"
     ]
    }
   ],
   "source": [
    "padron_6.printSchema()"
   ]
  },
  {
   "cell_type": "markdown",
   "id": "5f87266a-e4eb-42ed-bbe4-97c17e5090a9",
   "metadata": {},
   "source": [
    "# Ejercicio 7"
   ]
  },
  {
   "cell_type": "markdown",
   "id": "1aea6026-61fc-49bd-8944-7b809e005606",
   "metadata": {},
   "source": [
    "Borra esta columna.\n"
   ]
  },
  {
   "cell_type": "code",
   "execution_count": 15,
   "id": "53f8955c-e6bf-469d-8f67-cb4711c30b78",
   "metadata": {},
   "outputs": [],
   "source": [
    "padron_7 = padron_6.drop(F.col(\"valor_5\"))"
   ]
  },
  {
   "cell_type": "code",
   "execution_count": 16,
   "id": "8a7f6052-dd66-49ad-ae93-339d809a63a7",
   "metadata": {},
   "outputs": [
    {
     "name": "stdout",
     "output_type": "stream",
     "text": [
      "+------------+-------------+---------------+-----------+----------+----------------+-----------+------------+----------------+----------------+------------------+------------------+\n",
      "|COD_DISTRITO|DESC_DISTRITO|COD_DIST_BARRIO|DESC_BARRIO|COD_BARRIO|COD_DIST_SECCION|COD_SECCION|COD_EDAD_INT|EspanolesHombres|EspanolesMujeres|ExtranjerosHombres|ExtranjerosMujeres|\n",
      "+------------+-------------+---------------+-----------+----------+----------------+-----------+------------+----------------+----------------+------------------+------------------+\n",
      "|           1|       CENTRO|            101|    PALACIO|         1|            1001|          1|           0|               3|               1|                 1|                 0|\n",
      "|           1|       CENTRO|            101|    PALACIO|         1|            1001|          1|           1|               5|               2|                 0|                 0|\n",
      "|           1|       CENTRO|            101|    PALACIO|         1|            1001|          1|           2|               2|               2|                 2|                 3|\n",
      "|           1|       CENTRO|            101|    PALACIO|         1|            1001|          1|           3|               3|               1|                 0|                 1|\n",
      "|           1|       CENTRO|            101|    PALACIO|         1|            1001|          1|           4|               3|               1|                 1|                 1|\n",
      "|           1|       CENTRO|            101|    PALACIO|         1|            1001|          1|           5|               1|               1|                 0|                 1|\n",
      "|           1|       CENTRO|            101|    PALACIO|         1|            1001|          1|           6|               1|               2|                 1|                 1|\n",
      "|           1|       CENTRO|            101|    PALACIO|         1|            1001|          1|           7|               1|               1|                 1|                 0|\n",
      "|           1|       CENTRO|            101|    PALACIO|         1|            1001|          1|           8|               3|               2|                 1|                 1|\n",
      "|           1|       CENTRO|            101|    PALACIO|         1|            1001|          1|           9|               2|               0|                 0|                 2|\n",
      "|           1|       CENTRO|            101|    PALACIO|         1|            1001|          1|          10|               1|               2|                 1|                 0|\n",
      "|           1|       CENTRO|            101|    PALACIO|         1|            1001|          1|          11|               5|               1|                 1|                 0|\n",
      "|           1|       CENTRO|            101|    PALACIO|         1|            1001|          1|          12|               2|               4|                 0|                 0|\n",
      "|           1|       CENTRO|            101|    PALACIO|         1|            1001|          1|          13|               5|               4|                 0|                 0|\n",
      "|           1|       CENTRO|            101|    PALACIO|         1|            1001|          1|          14|               1|               0|                 0|                 2|\n",
      "|           1|       CENTRO|            101|    PALACIO|         1|            1001|          1|          15|               1|               3|                 1|                 0|\n",
      "|           1|       CENTRO|            101|    PALACIO|         1|            1001|          1|          16|               6|               4|                 0|                 0|\n",
      "|           1|       CENTRO|            101|    PALACIO|         1|            1001|          1|          17|               2|               2|                 0|                 1|\n",
      "|           1|       CENTRO|            101|    PALACIO|         1|            1001|          1|          18|               3|               5|                 1|                 0|\n",
      "|           1|       CENTRO|            101|    PALACIO|         1|            1001|          1|          19|               3|               4|                 2|                 2|\n",
      "+------------+-------------+---------------+-----------+----------+----------------+-----------+------------+----------------+----------------+------------------+------------------+\n",
      "only showing top 20 rows\n",
      "\n"
     ]
    }
   ],
   "source": [
    "padron_7.show()"
   ]
  },
  {
   "cell_type": "markdown",
   "id": "2bb72847-2516-423f-ad1a-daa1948a96b2",
   "metadata": {},
   "source": [
    "# Ejercicio 8"
   ]
  },
  {
   "cell_type": "markdown",
   "id": "10cb9b05-8b07-4b25-ad35-4e8d9aa0d911",
   "metadata": {},
   "source": [
    "Particiona el DataFrame por las variables DESC_DISTRITO y DESC_BARRIO."
   ]
  },
  {
   "cell_type": "code",
   "execution_count": 17,
   "id": "a334dd2d-e404-4340-acd9-6fb15bc23a6a",
   "metadata": {},
   "outputs": [
    {
     "name": "stdout",
     "output_type": "stream",
     "text": [
      "+------------+-------------------+---------------+-----------+----------+----------------+-----------+------------+----------------+----------------+------------------+------------------+\n",
      "|COD_DISTRITO|      DESC_DISTRITO|COD_DIST_BARRIO|DESC_BARRIO|COD_BARRIO|COD_DIST_SECCION|COD_SECCION|COD_EDAD_INT|EspanolesHombres|EspanolesMujeres|ExtranjerosHombres|ExtranjerosMujeres|\n",
      "+------------+-------------------+---------------+-----------+----------+----------------+-----------+------------+----------------+----------------+------------------+------------------+\n",
      "|           8|FUENCARRAL-EL PARDO|            807| MIRASIERRA|         7|            8131|        131|           0|               9|               2|                 1|                 0|\n",
      "|           8|FUENCARRAL-EL PARDO|            807| MIRASIERRA|         7|            8131|        131|           1|              11|              12|                 0|                 0|\n",
      "|           8|FUENCARRAL-EL PARDO|            807| MIRASIERRA|         7|            8131|        131|           2|              17|               9|                 0|                 0|\n",
      "|           8|FUENCARRAL-EL PARDO|            807| MIRASIERRA|         7|            8131|        131|           3|              17|              13|                 0|                 0|\n",
      "|           8|FUENCARRAL-EL PARDO|            807| MIRASIERRA|         7|            8131|        131|           4|              10|              14|                 0|                 0|\n",
      "|           8|FUENCARRAL-EL PARDO|            807| MIRASIERRA|         7|            8131|        131|           5|              15|              17|                 1|                 1|\n",
      "|           8|FUENCARRAL-EL PARDO|            807| MIRASIERRA|         7|            8131|        131|           6|              10|              15|                 0|                 2|\n",
      "|           8|FUENCARRAL-EL PARDO|            807| MIRASIERRA|         7|            8131|        131|           7|              15|              18|                 1|                 3|\n",
      "|           8|FUENCARRAL-EL PARDO|            807| MIRASIERRA|         7|            8131|        131|           8|              12|              13|                 0|                 2|\n",
      "|           8|FUENCARRAL-EL PARDO|            807| MIRASIERRA|         7|            8131|        131|           9|              18|              22|                 2|                 0|\n",
      "|           8|FUENCARRAL-EL PARDO|            807| MIRASIERRA|         7|            8131|        131|          10|              20|              25|                 0|                 1|\n",
      "|           8|FUENCARRAL-EL PARDO|            807| MIRASIERRA|         7|            8131|        131|          11|              21|              19|                 3|                 0|\n",
      "|           8|FUENCARRAL-EL PARDO|            807| MIRASIERRA|         7|            8131|        131|          12|              18|              17|                 1|                 2|\n",
      "|           8|FUENCARRAL-EL PARDO|            807| MIRASIERRA|         7|            8131|        131|          13|              36|              26|                 0|                 0|\n",
      "|           8|FUENCARRAL-EL PARDO|            807| MIRASIERRA|         7|            8131|        131|          14|              19|              13|                 0|                 0|\n",
      "|           8|FUENCARRAL-EL PARDO|            807| MIRASIERRA|         7|            8131|        131|          15|              27|              21|                 0|                 1|\n",
      "|           8|FUENCARRAL-EL PARDO|            807| MIRASIERRA|         7|            8131|        131|          16|              17|              20|                 0|                 2|\n",
      "|           8|FUENCARRAL-EL PARDO|            807| MIRASIERRA|         7|            8131|        131|          17|              18|              20|                 0|                 0|\n",
      "|           8|FUENCARRAL-EL PARDO|            807| MIRASIERRA|         7|            8131|        131|          18|              17|              21|                 0|                 0|\n",
      "|           8|FUENCARRAL-EL PARDO|            807| MIRASIERRA|         7|            8131|        131|          19|              10|              10|                 0|                 0|\n",
      "+------------+-------------------+---------------+-----------+----------+----------------+-----------+------------+----------------+----------------+------------------+------------------+\n",
      "only showing top 20 rows\n",
      "\n"
     ]
    }
   ],
   "source": [
    "\n",
    "padron_8 = padron_limpio.repartition(\"DESC_DISTRITO\", \"DESC_BARRIO\")\n",
    "\n",
    "\n",
    "padron_8.show()"
   ]
  },
  {
   "cell_type": "markdown",
   "id": "83dfb4b5-4d20-4084-a38f-e8acce186e31",
   "metadata": {},
   "source": [
    "# Ejercicio 9"
   ]
  },
  {
   "cell_type": "markdown",
   "id": "15dfaf8d-4e6b-4c66-953b-ecb276810163",
   "metadata": {},
   "source": [
    "Almacénalo en caché. Consulta en el puerto 4040 (UI de Spark) de tu usuario local el estado\n",
    "de los rdds almacenados."
   ]
  },
  {
   "cell_type": "code",
   "execution_count": 18,
   "id": "852945ed-6d08-4e1c-a8c8-7b7ede470deb",
   "metadata": {},
   "outputs": [],
   "source": [
    "padron_9 = padron_8.cache()"
   ]
  },
  {
   "cell_type": "markdown",
   "id": "0d129db1-2920-4a8a-b0fc-7e9b59a2747e",
   "metadata": {},
   "source": [
    "![Almacenado.png](data:image/png;base64,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)"
   ]
  },
  {
   "cell_type": "markdown",
   "id": "71ee6497-bba0-48ae-b975-71dbf2778926",
   "metadata": {},
   "source": [
    "# Ejercicio 10"
   ]
  },
  {
   "cell_type": "markdown",
   "id": "39aee787-f183-4372-95b3-f2db330979ed",
   "metadata": {},
   "source": [
    "Lanza una consulta contra el DF resultante en la que muestre el número total de \n",
    "\"espanoleshombres\", \"espanolesmujeres\", extranjeroshombres\" y \"extranjerosmujeres\" \n",
    "para cada barrio de cada distrito. Las columnas distrito y barrio deben ser las primeras en \n",
    "aparecer en el show. Los resultados deben estar ordenados en orden de más a menos \n",
    "según la columna \"extranjerosmujeres\" y desempatarán por la columna \n",
    "\"extranjeroshombres\"."
   ]
  },
  {
   "cell_type": "code",
   "execution_count": 19,
   "id": "4f0188bc-8953-475e-b7e9-fb1ee2c5a676",
   "metadata": {},
   "outputs": [
    {
     "name": "stdout",
     "output_type": "stream",
     "text": [
      "+-------------------+--------------------+---------+---------+--------+--------+\n",
      "|      DESC_DISTRITO|         DESC_BARRIO|NumEspHom|NumEspMuj|NumExHom|NumExMuj|\n",
      "+-------------------+--------------------+---------+---------+--------+--------+\n",
      "|             LATINA|              ALUCHE|     5750|     5750|    5750|    5750|\n",
      "|      CIUDAD LINEAL|        PUEBLO NUEVO|     4498|     4498|    4498|    4498|\n",
      "|FUENCARRAL-EL PARDO|            EL PILAR|     4370|     4370|    4370|    4370|\n",
      "|             LATINA|         LAS AGUILAS|     4100|     4100|    4100|    4100|\n",
      "|          HORTALEZA|       PINAR DEL REY|     4078|     4078|    4078|    4078|\n",
      "|      CIUDAD LINEAL|              VENTAS|     4026|     4026|    4026|    4026|\n",
      "|FUENCARRAL-EL PARDO|            VALVERDE|     3801|     3801|    3801|    3801|\n",
      "|             LATINA|    PUERTA DEL ANGEL|     3630|     3630|    3630|    3630|\n",
      "|FUENCARRAL-EL PARDO|         PE�A GRANDE|     3513|     3513|    3513|    3513|\n",
      "|             CENTRO|         EMBAJADORES|     3485|     3485|    3485|    3485|\n",
      "|          SALAMANCA|          GUINDALERA|     3364|     3364|    3364|    3364|\n",
      "| PUENTE DE VALLECAS|   PALOMERAS SURESTE|     3363|     3363|    3363|    3363|\n",
      "|        CARABANCHEL|        VISTA ALEGRE|     3331|     3331|    3331|    3331|\n",
      "| PUENTE DE VALLECAS|            NUMANCIA|     3320|     3320|    3320|    3320|\n",
      "|         VILLAVERDE|VILLAVERDE ALTO C.H.|     3196|     3196|    3196|    3196|\n",
      "|          HORTALEZA|            CANILLAS|     3021|     3021|    3021|    3021|\n",
      "| PUENTE DE VALLECAS|           SAN DIEGO|     2906|     2906|    2906|    2906|\n",
      "| PUENTE DE VALLECAS|           ENTREVIAS|     2904|     2904|    2904|    2904|\n",
      "|             TETUAN|      CUATRO CAMINOS|     2873|     2873|    2873|    2873|\n",
      "|             LATINA|              LUCERO|     2851|     2851|    2851|    2851|\n",
      "+-------------------+--------------------+---------+---------+--------+--------+\n",
      "only showing top 20 rows\n",
      "\n"
     ]
    }
   ],
   "source": [
    "padron_10 = padron_9.groupBy(\"DESC_DISTRITO\", \"DESC_BARRIO\").agg(F.count(\"EspanolesHombres\").alias(\"NumEspHom\"),\n",
    "                                                                 F.count(\"EspanolesMujeres\").alias(\"NumEspMuj\"), \n",
    "                                                                 F.count(\"ExtranjerosHombres\").alias(\"NumExHom\"), \n",
    "                                                                 F.count(\"ExtranjerosMujeres\").alias(\"NumExMuj\"))\\\n",
    "                                                            .orderBy(F.col(\"NumExMuj\").desc(), F.col(\"NumExHom\").desc())\n",
    "\n",
    "padron_10.show()"
   ]
  },
  {
   "cell_type": "markdown",
   "id": "9191be3e-00f8-4df3-93b2-398aa2338cd1",
   "metadata": {},
   "source": [
    "# Ejercicio 11"
   ]
  },
  {
   "cell_type": "markdown",
   "id": "a74329f3-6d8a-4e68-ac75-16ac4cf6b9bf",
   "metadata": {},
   "source": [
    "\n",
    "Elimina el registro en caché.\n"
   ]
  },
  {
   "cell_type": "code",
   "execution_count": 20,
   "id": "cd60889a-f4d2-4654-9b5e-9d11893b70b6",
   "metadata": {},
   "outputs": [
    {
     "data": {
      "text/plain": [
       "DataFrame[COD_DISTRITO: int, DESC_DISTRITO: string, COD_DIST_BARRIO: int, DESC_BARRIO: string, COD_BARRIO: int, COD_DIST_SECCION: int, COD_SECCION: int, COD_EDAD_INT: int, EspanolesHombres: int, EspanolesMujeres: int, ExtranjerosHombres: int, ExtranjerosMujeres: int]"
      ]
     },
     "execution_count": 20,
     "metadata": {},
     "output_type": "execute_result"
    }
   ],
   "source": [
    "padron_9.unpersist()"
   ]
  },
  {
   "cell_type": "markdown",
   "id": "b0d37ae0-2e42-4c0c-8a3d-9900dadc6fa0",
   "metadata": {},
   "source": [
    "# Ejercicio 12"
   ]
  },
  {
   "cell_type": "markdown",
   "id": "5b374cdf-eed0-4a5c-924e-5613fed5c861",
   "metadata": {},
   "source": [
    "Crea un nuevo DataFrame a partir del original que muestre únicamente una columna con \n",
    "DESC_BARRIO, otra con DESC_DISTRITO y otra con el número total de \"espanoleshombres\" \n",
    "residentes en cada distrito de cada barrio. Únelo (con un join) con el DataFrame original a \n",
    "través de las columnas en común."
   ]
  },
  {
   "cell_type": "code",
   "execution_count": 21,
   "id": "36270dfa-9e77-4dfc-8785-23e916e57233",
   "metadata": {},
   "outputs": [
    {
     "name": "stdout",
     "output_type": "stream",
     "text": [
      "+-------------------+-----------------+---------+\n",
      "|      DESC_DISTRITO|      DESC_BARRIO|SumEspHom|\n",
      "+-------------------+-----------------+---------+\n",
      "|FUENCARRAL-EL PARDO|       MIRASIERRA|    16342|\n",
      "|          SALAMANCA|       CASTELLANA|     6046|\n",
      "|SAN BLAS-CANILLEJAS|      EL SALVADOR|     4854|\n",
      "|    MONCLOA-ARAVACA|    CASA DE CAMPO|     5397|\n",
      "|          HORTALEZA|     VALDEFUENTES|    29749|\n",
      "|          MORATALAZ|       MARROQUINA|    11328|\n",
      "|             TETUAN|    BELLAS VISTAS|    10197|\n",
      "|          VICALVARO|     EL CA�AVERAL|     4565|\n",
      "|             CENTRO|         JUSTICIA|     6937|\n",
      "|             CENTRO|      UNIVERSIDAD|    12248|\n",
      "|      CIUDAD LINEAL|          ATALAYA|      622|\n",
      "|             TETUAN|       BERRUGUETE|     8649|\n",
      "|          VICALVARO|CASCO H.VICALVARO|    13275|\n",
      "|          CHAMARTIN|         CASTILLA|     7146|\n",
      "|         ARGANZUELA|          LEGAZPI|     8839|\n",
      "|SAN BLAS-CANILLEJAS|           HELLIN|     3579|\n",
      "|          CHAMARTIN|   HISPANOAMERICA|    13193|\n",
      "|  VILLA DE VALLECAS|    SANTA EUGENIA|    10249|\n",
      "|             CENTRO|      EMBAJADORES|    16340|\n",
      "|         VILLAVERDE|      LOS ANGELES|    12523|\n",
      "+-------------------+-----------------+---------+\n",
      "only showing top 20 rows\n",
      "\n"
     ]
    }
   ],
   "source": [
    "padron_12 = padron_limpio.groupBy(\"DESC_DISTRITO\", \"DESC_BARRIO\").agg(F.sum(\"EspanolesHombres\").alias(\"SumEspHom\"))\n",
    "\n",
    "\n",
    "padron_12.show()"
   ]
  },
  {
   "cell_type": "code",
   "execution_count": 22,
   "id": "31063e31-cf92-44ed-a32b-1c5e4811bcc6",
   "metadata": {},
   "outputs": [
    {
     "name": "stdout",
     "output_type": "stream",
     "text": [
      "+-------------+-----------+------------+---------------+----------+----------------+-----------+------------+----------------+----------------+------------------+------------------+---------+\n",
      "|DESC_DISTRITO|DESC_BARRIO|COD_DISTRITO|COD_DIST_BARRIO|COD_BARRIO|COD_DIST_SECCION|COD_SECCION|COD_EDAD_INT|EspanolesHombres|EspanolesMujeres|ExtranjerosHombres|ExtranjerosMujeres|SumEspHom|\n",
      "+-------------+-----------+------------+---------------+----------+----------------+-----------+------------+----------------+----------------+------------------+------------------+---------+\n",
      "|       CENTRO|    PALACIO|           1|            101|         1|            1001|          1|           0|               3|               1|                 1|                 0|     9205|\n",
      "|       CENTRO|    PALACIO|           1|            101|         1|            1001|          1|           1|               5|               2|                 0|                 0|     9205|\n",
      "|       CENTRO|    PALACIO|           1|            101|         1|            1001|          1|           2|               2|               2|                 2|                 3|     9205|\n",
      "|       CENTRO|    PALACIO|           1|            101|         1|            1001|          1|           3|               3|               1|                 0|                 1|     9205|\n",
      "|       CENTRO|    PALACIO|           1|            101|         1|            1001|          1|           4|               3|               1|                 1|                 1|     9205|\n",
      "|       CENTRO|    PALACIO|           1|            101|         1|            1001|          1|           5|               1|               1|                 0|                 1|     9205|\n",
      "|       CENTRO|    PALACIO|           1|            101|         1|            1001|          1|           6|               1|               2|                 1|                 1|     9205|\n",
      "|       CENTRO|    PALACIO|           1|            101|         1|            1001|          1|           7|               1|               1|                 1|                 0|     9205|\n",
      "|       CENTRO|    PALACIO|           1|            101|         1|            1001|          1|           8|               3|               2|                 1|                 1|     9205|\n",
      "|       CENTRO|    PALACIO|           1|            101|         1|            1001|          1|           9|               2|               0|                 0|                 2|     9205|\n",
      "|       CENTRO|    PALACIO|           1|            101|         1|            1001|          1|          10|               1|               2|                 1|                 0|     9205|\n",
      "|       CENTRO|    PALACIO|           1|            101|         1|            1001|          1|          11|               5|               1|                 1|                 0|     9205|\n",
      "|       CENTRO|    PALACIO|           1|            101|         1|            1001|          1|          12|               2|               4|                 0|                 0|     9205|\n",
      "|       CENTRO|    PALACIO|           1|            101|         1|            1001|          1|          13|               5|               4|                 0|                 0|     9205|\n",
      "|       CENTRO|    PALACIO|           1|            101|         1|            1001|          1|          14|               1|               0|                 0|                 2|     9205|\n",
      "|       CENTRO|    PALACIO|           1|            101|         1|            1001|          1|          15|               1|               3|                 1|                 0|     9205|\n",
      "|       CENTRO|    PALACIO|           1|            101|         1|            1001|          1|          16|               6|               4|                 0|                 0|     9205|\n",
      "|       CENTRO|    PALACIO|           1|            101|         1|            1001|          1|          17|               2|               2|                 0|                 1|     9205|\n",
      "|       CENTRO|    PALACIO|           1|            101|         1|            1001|          1|          18|               3|               5|                 1|                 0|     9205|\n",
      "|       CENTRO|    PALACIO|           1|            101|         1|            1001|          1|          19|               3|               4|                 2|                 2|     9205|\n",
      "+-------------+-----------+------------+---------------+----------+----------------+-----------+------------+----------------+----------------+------------------+------------------+---------+\n",
      "only showing top 20 rows\n",
      "\n"
     ]
    }
   ],
   "source": [
    "padron_12_join = padron_limpio.join(padron_12, on = [\"DESC_DISTRITO\", \"DESC_BARRIO\"])\n",
    "\n",
    "padron_12_join.show()"
   ]
  },
  {
   "cell_type": "markdown",
   "id": "cebc65e0-a094-42d9-aba9-0083dab2a794",
   "metadata": {},
   "source": [
    "# Ejercicio 13"
   ]
  },
  {
   "cell_type": "markdown",
   "id": "d2b6c6c8-0995-4e76-9b96-ad45b101b287",
   "metadata": {},
   "source": [
    "Repite la función anterior utilizando funciones de ventana. (over(Window.partitionBy.....))."
   ]
  },
  {
   "cell_type": "code",
   "execution_count": 23,
   "id": "6ae9d82d-7e24-49d8-9cb7-426ff37e440b",
   "metadata": {},
   "outputs": [],
   "source": [
    "from pyspark.sql import Window\n",
    "w = Window().partitionBy(\"DESC_DISTRITO\", \"DESC_BARRIO\")"
   ]
  },
  {
   "cell_type": "code",
   "execution_count": 24,
   "id": "814255f3-3482-4710-afa2-814d796a5b92",
   "metadata": {},
   "outputs": [],
   "source": [
    "padron_13 = padron_limpio.withColumn(\"SumEspHom\", F.sum(\"EspanolesHombres\").over(w))"
   ]
  },
  {
   "cell_type": "code",
   "execution_count": 25,
   "id": "dfbb6037-8429-4595-948c-c62a1ae5b882",
   "metadata": {},
   "outputs": [
    {
     "name": "stdout",
     "output_type": "stream",
     "text": [
      "+------------+-------------------+---------------+-----------+----------+----------------+-----------+------------+----------------+----------------+------------------+------------------+---------+\n",
      "|COD_DISTRITO|      DESC_DISTRITO|COD_DIST_BARRIO|DESC_BARRIO|COD_BARRIO|COD_DIST_SECCION|COD_SECCION|COD_EDAD_INT|EspanolesHombres|EspanolesMujeres|ExtranjerosHombres|ExtranjerosMujeres|SumEspHom|\n",
      "+------------+-------------------+---------------+-----------+----------+----------------+-----------+------------+----------------+----------------+------------------+------------------+---------+\n",
      "|           8|FUENCARRAL-EL PARDO|            807| MIRASIERRA|         7|            8131|        131|           0|               9|               2|                 1|                 0|    16342|\n",
      "|           8|FUENCARRAL-EL PARDO|            807| MIRASIERRA|         7|            8131|        131|           1|              11|              12|                 0|                 0|    16342|\n",
      "|           8|FUENCARRAL-EL PARDO|            807| MIRASIERRA|         7|            8131|        131|           2|              17|               9|                 0|                 0|    16342|\n",
      "|           8|FUENCARRAL-EL PARDO|            807| MIRASIERRA|         7|            8131|        131|           3|              17|              13|                 0|                 0|    16342|\n",
      "|           8|FUENCARRAL-EL PARDO|            807| MIRASIERRA|         7|            8131|        131|           4|              10|              14|                 0|                 0|    16342|\n",
      "|           8|FUENCARRAL-EL PARDO|            807| MIRASIERRA|         7|            8131|        131|           5|              15|              17|                 1|                 1|    16342|\n",
      "|           8|FUENCARRAL-EL PARDO|            807| MIRASIERRA|         7|            8131|        131|           6|              10|              15|                 0|                 2|    16342|\n",
      "|           8|FUENCARRAL-EL PARDO|            807| MIRASIERRA|         7|            8131|        131|           7|              15|              18|                 1|                 3|    16342|\n",
      "|           8|FUENCARRAL-EL PARDO|            807| MIRASIERRA|         7|            8131|        131|           8|              12|              13|                 0|                 2|    16342|\n",
      "|           8|FUENCARRAL-EL PARDO|            807| MIRASIERRA|         7|            8131|        131|           9|              18|              22|                 2|                 0|    16342|\n",
      "|           8|FUENCARRAL-EL PARDO|            807| MIRASIERRA|         7|            8131|        131|          10|              20|              25|                 0|                 1|    16342|\n",
      "|           8|FUENCARRAL-EL PARDO|            807| MIRASIERRA|         7|            8131|        131|          11|              21|              19|                 3|                 0|    16342|\n",
      "|           8|FUENCARRAL-EL PARDO|            807| MIRASIERRA|         7|            8131|        131|          12|              18|              17|                 1|                 2|    16342|\n",
      "|           8|FUENCARRAL-EL PARDO|            807| MIRASIERRA|         7|            8131|        131|          13|              36|              26|                 0|                 0|    16342|\n",
      "|           8|FUENCARRAL-EL PARDO|            807| MIRASIERRA|         7|            8131|        131|          14|              19|              13|                 0|                 0|    16342|\n",
      "|           8|FUENCARRAL-EL PARDO|            807| MIRASIERRA|         7|            8131|        131|          15|              27|              21|                 0|                 1|    16342|\n",
      "|           8|FUENCARRAL-EL PARDO|            807| MIRASIERRA|         7|            8131|        131|          16|              17|              20|                 0|                 2|    16342|\n",
      "|           8|FUENCARRAL-EL PARDO|            807| MIRASIERRA|         7|            8131|        131|          17|              18|              20|                 0|                 0|    16342|\n",
      "|           8|FUENCARRAL-EL PARDO|            807| MIRASIERRA|         7|            8131|        131|          18|              17|              21|                 0|                 0|    16342|\n",
      "|           8|FUENCARRAL-EL PARDO|            807| MIRASIERRA|         7|            8131|        131|          19|              10|              10|                 0|                 0|    16342|\n",
      "+------------+-------------------+---------------+-----------+----------+----------------+-----------+------------+----------------+----------------+------------------+------------------+---------+\n",
      "only showing top 20 rows\n",
      "\n"
     ]
    }
   ],
   "source": [
    "padron_13.show()"
   ]
  },
  {
   "cell_type": "markdown",
   "id": "2a0df072-2e14-41f0-967f-da542c2793c6",
   "metadata": {},
   "source": [
    "# Ejercicio 14"
   ]
  },
  {
   "cell_type": "markdown",
   "id": "d730b453-c8eb-4e9e-8256-c381255718e6",
   "metadata": {},
   "source": [
    "Mediante una función Pivot muestra una tabla (que va a ser una tabla de contingencia) que\n",
    "contenga los valores totales ()la suma de valores) de espanolesmujeres para cada distrito y \n",
    "en cada rango de edad (COD_EDAD_INT). Los distritos incluidos deben ser únicamente \n",
    "CENTRO, BARAJAS y RETIRO y deben figurar como columnas . El aspecto debe ser similar a \n",
    "este:"
   ]
  },
  {
   "cell_type": "code",
   "execution_count": 26,
   "id": "0f2e3087-75b8-4cbe-bcd7-095c9fdaa156",
   "metadata": {},
   "outputs": [],
   "source": [
    "w2 = Window().partitionBy(\"DESC_DISTRITO\", \"COD_EDAD_INT\")\n",
    "\n",
    "padron_14 = padron_limpio.where((F.col(\"DESC_DISTRITO\") == \"CENTRO\") | (F.col(\"DESC_DISTRITO\") == \"BARAJAS\") | (F.col(\"DESC_DISTRITO\") == \"RETIRO\") )\\\n",
    "                         .groupBy( \"COD_EDAD_INT\").pivot(\"DESC_DISTRITO\")\\\n",
    "                         .agg(F.sum(F.col(\"Espanolesmujeres\")))\\\n",
    "                         .orderBy(F.col(\"COD_EDAD_INT\").asc())"
   ]
  },
  {
   "cell_type": "code",
   "execution_count": 27,
   "id": "b9d741a2-a762-4ba9-98b6-d8d3d81c22f5",
   "metadata": {},
   "outputs": [
    {
     "name": "stdout",
     "output_type": "stream",
     "text": [
      "+------------+-------+------+------+\n",
      "|COD_EDAD_INT|BARAJAS|CENTRO|RETIRO|\n",
      "+------------+-------+------+------+\n",
      "|           0|    146|   262|   317|\n",
      "|           1|    160|   240|   318|\n",
      "|           2|    171|   200|   377|\n",
      "|           3|    175|   216|   365|\n",
      "|           4|    201|   239|   412|\n",
      "|           5|    217|   224|   420|\n",
      "|           6|    242|   231|   405|\n",
      "|           7|    229|   237|   466|\n",
      "|           8|    234|   228|   417|\n",
      "|           9|    236|   235|   421|\n",
      "|          10|    260|   252|   419|\n",
      "|          11|    241|   231|   423|\n",
      "|          12|    259|   244|   417|\n",
      "|          13|    267|   274|   443|\n",
      "|          14|    250|   249|   407|\n",
      "|          15|    269|   251|   429|\n",
      "|          16|    269|   267|   422|\n",
      "|          17|    265|   261|   417|\n",
      "|          18|    223|   285|   455|\n",
      "|          19|    254|   304|   411|\n",
      "+------------+-------+------+------+\n",
      "only showing top 20 rows\n",
      "\n"
     ]
    }
   ],
   "source": [
    "padron_14.show()"
   ]
  },
  {
   "cell_type": "markdown",
   "id": "deb4889e-6891-4a61-93b6-76830c1e87f1",
   "metadata": {},
   "source": [
    "# Ejercicio 15"
   ]
  },
  {
   "cell_type": "markdown",
   "id": "b7c3558c-58d3-4302-92c0-2dbc47431748",
   "metadata": {},
   "source": [
    "Utilizando este nuevo DF, crea 3 columnas nuevas que hagan referencia a qué porcentaje \n",
    "de la suma de \"espanolesmujeres\" en los tres distritos para cada rango de edad representa \n",
    "cada uno de los tres distritos. Debe estar redondeada a 2 decimales. Puedes imponerte la \n",
    "condición extra de no apoyarte en ninguna columna auxiliar creada para el caso."
   ]
  },
  {
   "cell_type": "code",
   "execution_count": 28,
   "id": "e1f4316d-4280-48ea-ba08-90cda9b8f7bd",
   "metadata": {},
   "outputs": [
    {
     "name": "stdout",
     "output_type": "stream",
     "text": [
      "+------------+-------+------+------+------------------+------------------+------------------+\n",
      "|COD_EDAD_INT|BARAJAS|CENTRO|RETIRO|       PorcBARAJAS|        PorcCENTRO|        PorcRETIRO|\n",
      "+------------+-------+------+------+------------------+------------------+------------------+\n",
      "|           0|    146|   262|   317|20.137931034482758|36.137931034482754|43.724137931034484|\n",
      "|           1|    160|   240|   318|22.284122562674096| 33.42618384401114| 44.28969359331476|\n",
      "|           2|    171|   200|   377| 22.86096256684492|26.737967914438503| 50.40106951871658|\n",
      "|           3|    175|   216|   365| 23.14814814814815| 28.57142857142857| 48.28042328042328|\n",
      "|           4|    201|   239|   412|23.591549295774648|28.051643192488264| 48.35680751173709|\n",
      "|           5|    217|   224|   420|25.203252032520325| 26.01626016260163| 48.78048780487805|\n",
      "|           6|    242|   231|   405|  27.5626423690205| 26.30979498861048| 46.12756264236902|\n",
      "|           7|    229|   237|   466|24.570815450643778|25.429184549356222|              50.0|\n",
      "|           8|    234|   228|   417|26.621160409556317|25.938566552901023| 47.44027303754266|\n",
      "|           9|    236|   235|   421| 26.45739910313901|26.345291479820627| 47.19730941704036|\n",
      "|          10|    260|   252|   419|27.926960257787325| 27.06766917293233|45.005370569280345|\n",
      "|          11|    241|   231|   423|26.927374301675975| 25.81005586592179|47.262569832402235|\n",
      "|          12|    259|   244|   417|28.152173913043477|26.521739130434785|45.326086956521735|\n",
      "|          13|    267|   274|   443|27.134146341463417| 27.84552845528455| 45.02032520325203|\n",
      "|          14|    250|   249|   407|27.593818984547465|27.483443708609272| 44.92273730684327|\n",
      "|          15|    269|   251|   429| 28.34562697576396| 26.44889357218124| 45.20547945205479|\n",
      "|          16|    269|   267|   422|28.079331941544883|27.870563674321502| 44.05010438413361|\n",
      "|          17|    265|   261|   417|28.101802757158005| 27.67762460233298| 44.22057264050901|\n",
      "|          18|    223|   285|   455|23.156801661474557|29.595015576323984| 47.24818276220145|\n",
      "|          19|    254|   304|   411|26.212590299277604|31.372549019607842|42.414860681114554|\n",
      "+------------+-------+------+------+------------------+------------------+------------------+\n",
      "only showing top 20 rows\n",
      "\n"
     ]
    }
   ],
   "source": [
    "padron_15 = padron_14.withColumn(\"suma\", F.col(\"BARAJAS\")+F.col(\"CENTRO\")+ F.col(\"RETIRO\"))\\\n",
    "                     .withColumn(\"PorcBARAJAS\", F.col(\"BARAJAS\")/F.col(\"suma\")*100)\\\n",
    "                     .withColumn(\"PorcCENTRO\", F.col(\"CENTRO\")/F.col(\"suma\")*100)\\\n",
    "                     .withColumn(\"PorcRETIRO\", F.col(\"RETIRO\")/F.col(\"suma\")*100)\\\n",
    "                     .drop(\"suma\")\n",
    "\n",
    "padron_15.show()"
   ]
  },
  {
   "cell_type": "markdown",
   "id": "965c0856-fa54-4459-95e5-826a03ea6052",
   "metadata": {},
   "source": [
    "# Ejercicio 16"
   ]
  },
  {
   "cell_type": "markdown",
   "id": "eb6af803-e49e-4bdd-b4c2-21eb2bca6f29",
   "metadata": {},
   "source": [
    "Guarda el archivo csv original particionado por distrito y por barrio (en ese orden) en un \n",
    "directorio local. Consulta el directorio para ver la estructura de los ficheros y comprueba \n",
    "que es la esperada."
   ]
  },
  {
   "cell_type": "code",
   "execution_count": 37,
   "id": "f12af804-5c2b-4fe8-8857-c43834d70901",
   "metadata": {},
   "outputs": [],
   "source": [
    "\n",
    "padron_limpio.write.option(\"header\",True).partitionBy(\"DESC_DISTRITO\", \"DESC_BARRIO\").mode('overwrite').format(\"csv\").save(\"C:/PracticaPadron\")"
   ]
  },
  {
   "cell_type": "markdown",
   "id": "ee835adb-e8a4-4937-bd9b-76fdf3a52479",
   "metadata": {},
   "source": [
    "# Ejercicio 17"
   ]
  },
  {
   "cell_type": "markdown",
   "id": "c7eb8414-822e-488e-a98b-4940e7f51195",
   "metadata": {},
   "source": [
    "Haz el mismo guardado pero en formato parquet. Compara el peso del archivo con el \n",
    "resultado anterior."
   ]
  },
  {
   "cell_type": "code",
   "execution_count": 38,
   "id": "cad9bc60-5b5c-40e0-8419-8f6ca981887d",
   "metadata": {},
   "outputs": [],
   "source": [
    "\n",
    "padron_limpio.write.option(\"header\",True).partitionBy(\"DESC_DISTRITO\", \"DESC_BARRIO\").mode('overwrite').format(\"parquet\").save(\"C:/PracticaPadronParquet\")"
   ]
  },
  {
   "cell_type": "code",
   "execution_count": null,
   "id": "7df9c2c6-98c1-4a5d-8b52-0bc1aaf82ed7",
   "metadata": {},
   "outputs": [],
   "source": []
  },
  {
   "cell_type": "code",
   "execution_count": null,
   "id": "fa6e0aa4-90ff-4145-873a-079cb0604113",
   "metadata": {},
   "outputs": [],
   "source": []
  },
  {
   "cell_type": "code",
   "execution_count": null,
   "id": "a4448bbb-e9ba-41da-96d0-4a4a7b4fd7cf",
   "metadata": {},
   "outputs": [],
   "source": []
  },
  {
   "cell_type": "code",
   "execution_count": 3,
   "id": "f2f4b459-ea37-4859-9d87-55724514bd74",
   "metadata": {},
   "outputs": [
    {
     "ename": "AnalysisException",
     "evalue": "Table or view not found: datos_padron.padron_txt; line 1 pos 14;\n'Project [*]\n+- 'UnresolvedRelation [datos_padron, padron_txt], [], false\n",
     "output_type": "error",
     "traceback": [
      "\u001b[1;31m---------------------------------------------------------------------------\u001b[0m",
      "\u001b[1;31mAnalysisException\u001b[0m                         Traceback (most recent call last)",
      "\u001b[1;32mC:\\Users\\ALEJAN~1.PER\\AppData\\Local\\Temp/ipykernel_17844/4005721562.py\u001b[0m in \u001b[0;36m<module>\u001b[1;34m\u001b[0m\n\u001b[1;32m----> 1\u001b[1;33m \u001b[0mspark\u001b[0m\u001b[1;33m.\u001b[0m\u001b[0msql\u001b[0m\u001b[1;33m(\u001b[0m\u001b[1;34m\"SELECT * FROM datos_padron.padron_txt\"\u001b[0m\u001b[1;33m)\u001b[0m\u001b[1;33m.\u001b[0m\u001b[0mcollect\u001b[0m\u001b[1;33m(\u001b[0m\u001b[1;33m)\u001b[0m\u001b[1;33m\u001b[0m\u001b[1;33m\u001b[0m\u001b[0m\n\u001b[0m",
      "\u001b[1;32m~\\Anaconda3\\lib\\site-packages\\pyspark\\sql\\session.py\u001b[0m in \u001b[0;36msql\u001b[1;34m(self, sqlQuery)\u001b[0m\n\u001b[0;32m    721\u001b[0m         \u001b[1;33m[\u001b[0m\u001b[0mRow\u001b[0m\u001b[1;33m(\u001b[0m\u001b[0mf1\u001b[0m\u001b[1;33m=\u001b[0m\u001b[1;36m1\u001b[0m\u001b[1;33m,\u001b[0m \u001b[0mf2\u001b[0m\u001b[1;33m=\u001b[0m\u001b[1;34m'row1'\u001b[0m\u001b[1;33m)\u001b[0m\u001b[1;33m,\u001b[0m \u001b[0mRow\u001b[0m\u001b[1;33m(\u001b[0m\u001b[0mf1\u001b[0m\u001b[1;33m=\u001b[0m\u001b[1;36m2\u001b[0m\u001b[1;33m,\u001b[0m \u001b[0mf2\u001b[0m\u001b[1;33m=\u001b[0m\u001b[1;34m'row2'\u001b[0m\u001b[1;33m)\u001b[0m\u001b[1;33m,\u001b[0m \u001b[0mRow\u001b[0m\u001b[1;33m(\u001b[0m\u001b[0mf1\u001b[0m\u001b[1;33m=\u001b[0m\u001b[1;36m3\u001b[0m\u001b[1;33m,\u001b[0m \u001b[0mf2\u001b[0m\u001b[1;33m=\u001b[0m\u001b[1;34m'row3'\u001b[0m\u001b[1;33m)\u001b[0m\u001b[1;33m]\u001b[0m\u001b[1;33m\u001b[0m\u001b[1;33m\u001b[0m\u001b[0m\n\u001b[0;32m    722\u001b[0m         \"\"\"\n\u001b[1;32m--> 723\u001b[1;33m         \u001b[1;32mreturn\u001b[0m \u001b[0mDataFrame\u001b[0m\u001b[1;33m(\u001b[0m\u001b[0mself\u001b[0m\u001b[1;33m.\u001b[0m\u001b[0m_jsparkSession\u001b[0m\u001b[1;33m.\u001b[0m\u001b[0msql\u001b[0m\u001b[1;33m(\u001b[0m\u001b[0msqlQuery\u001b[0m\u001b[1;33m)\u001b[0m\u001b[1;33m,\u001b[0m \u001b[0mself\u001b[0m\u001b[1;33m.\u001b[0m\u001b[0m_wrapped\u001b[0m\u001b[1;33m)\u001b[0m\u001b[1;33m\u001b[0m\u001b[1;33m\u001b[0m\u001b[0m\n\u001b[0m\u001b[0;32m    724\u001b[0m \u001b[1;33m\u001b[0m\u001b[0m\n\u001b[0;32m    725\u001b[0m     \u001b[1;32mdef\u001b[0m \u001b[0mtable\u001b[0m\u001b[1;33m(\u001b[0m\u001b[0mself\u001b[0m\u001b[1;33m,\u001b[0m \u001b[0mtableName\u001b[0m\u001b[1;33m)\u001b[0m\u001b[1;33m:\u001b[0m\u001b[1;33m\u001b[0m\u001b[1;33m\u001b[0m\u001b[0m\n",
      "\u001b[1;32m~\\Anaconda3\\lib\\site-packages\\py4j\\java_gateway.py\u001b[0m in \u001b[0;36m__call__\u001b[1;34m(self, *args)\u001b[0m\n\u001b[0;32m   1302\u001b[0m \u001b[1;33m\u001b[0m\u001b[0m\n\u001b[0;32m   1303\u001b[0m         \u001b[0manswer\u001b[0m \u001b[1;33m=\u001b[0m \u001b[0mself\u001b[0m\u001b[1;33m.\u001b[0m\u001b[0mgateway_client\u001b[0m\u001b[1;33m.\u001b[0m\u001b[0msend_command\u001b[0m\u001b[1;33m(\u001b[0m\u001b[0mcommand\u001b[0m\u001b[1;33m)\u001b[0m\u001b[1;33m\u001b[0m\u001b[1;33m\u001b[0m\u001b[0m\n\u001b[1;32m-> 1304\u001b[1;33m         return_value = get_return_value(\n\u001b[0m\u001b[0;32m   1305\u001b[0m             answer, self.gateway_client, self.target_id, self.name)\n\u001b[0;32m   1306\u001b[0m \u001b[1;33m\u001b[0m\u001b[0m\n",
      "\u001b[1;32m~\\Anaconda3\\lib\\site-packages\\pyspark\\sql\\utils.py\u001b[0m in \u001b[0;36mdeco\u001b[1;34m(*a, **kw)\u001b[0m\n\u001b[0;32m    115\u001b[0m                 \u001b[1;31m# Hide where the exception came from that shows a non-Pythonic\u001b[0m\u001b[1;33m\u001b[0m\u001b[1;33m\u001b[0m\u001b[0m\n\u001b[0;32m    116\u001b[0m                 \u001b[1;31m# JVM exception message.\u001b[0m\u001b[1;33m\u001b[0m\u001b[1;33m\u001b[0m\u001b[0m\n\u001b[1;32m--> 117\u001b[1;33m                 \u001b[1;32mraise\u001b[0m \u001b[0mconverted\u001b[0m \u001b[1;32mfrom\u001b[0m \u001b[1;32mNone\u001b[0m\u001b[1;33m\u001b[0m\u001b[1;33m\u001b[0m\u001b[0m\n\u001b[0m\u001b[0;32m    118\u001b[0m             \u001b[1;32melse\u001b[0m\u001b[1;33m:\u001b[0m\u001b[1;33m\u001b[0m\u001b[1;33m\u001b[0m\u001b[0m\n\u001b[0;32m    119\u001b[0m                 \u001b[1;32mraise\u001b[0m\u001b[1;33m\u001b[0m\u001b[1;33m\u001b[0m\u001b[0m\n",
      "\u001b[1;31mAnalysisException\u001b[0m: Table or view not found: datos_padron.padron_txt; line 1 pos 14;\n'Project [*]\n+- 'UnresolvedRelation [datos_padron, padron_txt], [], false\n"
     ]
    }
   ],
   "source": [
    "spark.sql(\"SELECT * FROM datos_padron.padron_txt\").collect()"
   ]
  },
  {
   "cell_type": "code",
   "execution_count": 2,
   "id": "5c9d0873-8bf2-43ad-8f8e-aaa0727be0bc",
   "metadata": {},
   "outputs": [
    {
     "name": "stdout",
     "output_type": "stream",
     "text": [
      "+--------+---------+-----------+\n",
      "|database|tableName|isTemporary|\n",
      "+--------+---------+-----------+\n",
      "+--------+---------+-----------+\n",
      "\n"
     ]
    }
   ],
   "source": [
    "spark.sql(\"Show tables\").show()"
   ]
  },
  {
   "cell_type": "code",
   "execution_count": null,
   "id": "7d72e4ad-f6ae-40f5-8d7f-d4912bdc3b74",
   "metadata": {},
   "outputs": [],
   "source": []
  },
  {
   "cell_type": "code",
   "execution_count": null,
   "id": "2f490a61-8b07-4c15-acd5-fed353942356",
   "metadata": {},
   "outputs": [],
   "source": []
  },
  {
   "cell_type": "code",
   "execution_count": null,
   "id": "7eab03e9-1b68-4262-91bd-c1ec075e0a23",
   "metadata": {},
   "outputs": [],
   "source": []
  }
 ],
 "metadata": {
  "kernelspec": {
   "display_name": "Python 3 (ipykernel)",
   "language": "python",
   "name": "python3"
  },
  "language_info": {
   "codemirror_mode": {
    "name": "ipython",
    "version": 3
   },
   "file_extension": ".py",
   "mimetype": "text/x-python",
   "name": "python",
   "nbconvert_exporter": "python",
   "pygments_lexer": "ipython3",
   "version": "3.9.7"
  }
 },
 "nbformat": 4,
 "nbformat_minor": 5
}
